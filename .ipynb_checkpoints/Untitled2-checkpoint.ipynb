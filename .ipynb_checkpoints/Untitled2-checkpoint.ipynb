{
 "cells": [
  {
   "cell_type": "code",
   "execution_count": 12,
   "metadata": {},
   "outputs": [
    {
     "name": "stdout",
     "output_type": "stream",
     "text": [
      "[]\n",
      "cmt:  29\n",
      "conference:  59\n"
     ]
    }
   ],
   "source": [
    "from owlready2 import *\n",
    "#import ontospy\n",
    "import nltk\n",
    "import pandas as pd\n",
    "import numpy as np\n",
    "import threading\n",
    "from nltk.corpus import wordnet\n",
    "from nltk.corpus import wordnet_ic\n",
    "from multiprocessing import Pool\n",
    "import os\n",
    "from joblib import Parallel, delayed\n",
    "import timeit\n",
    "\n",
    "def ontoLoad():\n",
    "    source = get_ontology(\"file://dataset/conference/cmt.owl\").load();\n",
    "    target = get_ontology(\"file://dataset/conference/conference.owl\").load();\n",
    "    reference = get_ontology(\"file://dataset/reference-alignment/cmt-conference.rdf\").load();\n",
    "    \n",
    "    #### Input Reference Ontology as a DataFrame\n",
    "    \n",
    "   # with open(\"dataset/reference-alignment/cmt-conference.rdf\") as file_in:\n",
    "    #    for line in file_in:\n",
    "     #       print(line)\n",
    "    sourceList = list(source.classes())\n",
    "    targetList = list(target.classes())\n",
    "    refList = list(reference.classes())\n",
    "    print(refList)\n",
    "    \n",
    "    return sourceList, targetList\n",
    "source, target = ontoLoad()\n",
    "print(\"cmt: \",len(source))\n",
    "print(\"conference: \",len(target))\n",
    "#for src in source:\n",
    " #   for trg in target:\n",
    "  #      print(source, target)\n",
    "   #     print(\" \")\n",
    "    \n",
    "#print(source, target)"
   ]
  },
  {
   "cell_type": "code",
   "execution_count": null,
   "metadata": {},
   "outputs": [],
   "source": []
  }
 ],
 "metadata": {
  "kernelspec": {
   "display_name": "Python 3",
   "language": "python",
   "name": "python3"
  },
  "language_info": {
   "codemirror_mode": {
    "name": "ipython",
    "version": 3
   },
   "file_extension": ".py",
   "mimetype": "text/x-python",
   "name": "python",
   "nbconvert_exporter": "python",
   "pygments_lexer": "ipython3",
   "version": "3.8.5"
  }
 },
 "nbformat": 4,
 "nbformat_minor": 4
}
